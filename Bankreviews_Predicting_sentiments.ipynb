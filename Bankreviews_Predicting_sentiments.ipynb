{
 "cells": [
  {
   "cell_type": "code",
   "execution_count": 7,
   "metadata": {},
   "outputs": [],
   "source": [
    "import nltk.classify.util\n",
    "from nltk.classify import NaiveBayesClassifier\n",
    "from nltk.corpus import movie_reviews\n",
    "from nltk.corpus import stopwords\n",
    "from nltk.tokenize import word_tokenize\n",
    "import pandas as pd\n",
    "import pickle"
   ]
  },
  {
   "cell_type": "code",
   "execution_count": 8,
   "metadata": {},
   "outputs": [],
   "source": [
    "# This is how the Naive Bayes classifier expects the input\n",
    "def create_word_features(words):\n",
    "    useful_words = [word for word in words if word not in stopwords.words(\"english\")]\n",
    "    my_dict = dict([(word, True) for word in useful_words])\n",
    "    return my_dict"
   ]
  },
  {
   "cell_type": "code",
   "execution_count": 37,
   "metadata": {},
   "outputs": [
    {
     "data": {
      "text/plain": [
       "{'manager': True, 'polite': True}"
      ]
     },
     "execution_count": 37,
     "metadata": {},
     "output_type": "execute_result"
    }
   ],
   "source": [
    "create_word_features([\"the\", \"manager\", \"was\", \"very\", \"polite\"])"
   ]
  },
  {
   "cell_type": "code",
   "execution_count": 10,
   "metadata": {},
   "outputs": [],
   "source": [
    "#import nltk\n",
    "#nltk.download('movie_reviews')\n",
    "#movie_reviews.sents()"
   ]
  },
  {
   "cell_type": "code",
   "execution_count": 12,
   "metadata": {},
   "outputs": [],
   "source": [
    "data=pd.read_excel(\"C:\\\\Users\\\\HP\\\\Documents\\\\Deepak\\\\ALabs\\\\proj\\\\5. Bank Reviews-Complaints Analysis\\\\BankReviews.xlsx\")"
   ]
  },
  {
   "cell_type": "code",
   "execution_count": 13,
   "metadata": {},
   "outputs": [
    {
     "data": {
      "text/html": [
       "<div>\n",
       "<style scoped>\n",
       "    .dataframe tbody tr th:only-of-type {\n",
       "        vertical-align: middle;\n",
       "    }\n",
       "\n",
       "    .dataframe tbody tr th {\n",
       "        vertical-align: top;\n",
       "    }\n",
       "\n",
       "    .dataframe thead th {\n",
       "        text-align: right;\n",
       "    }\n",
       "</style>\n",
       "<table border=\"1\" class=\"dataframe\">\n",
       "  <thead>\n",
       "    <tr style=\"text-align: right;\">\n",
       "      <th></th>\n",
       "      <th>Reviews</th>\n",
       "      <th>fileids</th>\n",
       "    </tr>\n",
       "  </thead>\n",
       "  <tbody>\n",
       "    <tr>\n",
       "      <th>500</th>\n",
       "      <td>\\rI never write reviews but had to this time t...</td>\n",
       "      <td>neg</td>\n",
       "    </tr>\n",
       "    <tr>\n",
       "      <th>501</th>\n",
       "      <td>\\rIt all started when Bob G ran a credit check...</td>\n",
       "      <td>neg</td>\n",
       "    </tr>\n",
       "    <tr>\n",
       "      <th>502</th>\n",
       "      <td>\\rWhat a horrible experience. We have excellen...</td>\n",
       "      <td>neg</td>\n",
       "    </tr>\n",
       "    <tr>\n",
       "      <th>503</th>\n",
       "      <td>\\rRep was extremely professional, friendly, an...</td>\n",
       "      <td>neg</td>\n",
       "    </tr>\n",
       "    <tr>\n",
       "      <th>504</th>\n",
       "      <td>\\rI was working with a loan consultant from NA...</td>\n",
       "      <td>neg</td>\n",
       "    </tr>\n",
       "  </tbody>\n",
       "</table>\n",
       "</div>"
      ],
      "text/plain": [
       "                                               Reviews fileids\n",
       "500  \\rI never write reviews but had to this time t...     neg\n",
       "501  \\rIt all started when Bob G ran a credit check...     neg\n",
       "502  \\rWhat a horrible experience. We have excellen...     neg\n",
       "503  \\rRep was extremely professional, friendly, an...     neg\n",
       "504  \\rI was working with a loan consultant from NA...     neg"
      ]
     },
     "execution_count": 13,
     "metadata": {},
     "output_type": "execute_result"
    }
   ],
   "source": [
    "data[\"fileids\"] = data[\"Stars\"].map({5:\"pos\", 1:\"neg\"})\n",
    "data = data.replace('\\n','', regex=True)\n",
    "\n",
    "data.drop(['Date','BankName', 'Stars'],axis=1,inplace=True)\n",
    "data.tail(5)"
   ]
  },
  {
   "cell_type": "code",
   "execution_count": 14,
   "metadata": {},
   "outputs": [
    {
     "data": {
      "text/plain": [
       "u\"\\rI was working with a loan consultant from NASB and she told me that she would give me a rate of 4.875% for a 30 year fixed loan with a total closing cost of $2300. I asked her to send me the good faith estimate. The good faith estimate came with a total closing cost of $2929 which is about $600 more than she mentioned during our conversation. When I called her for explanation of the extra $600 she said that there is a state tax 545.10 which she was not aware of. What an explanation!!!! She knew my state from the beginning and I repeatedly asked her for a 'TOTAL' closing cost and that time she repeatedly said it will be $2300. As a loan consultant she should have known that there is something like a 'STATE TAX' that might come later and should have mentioned that to me. I am not supposed to know what are the different compoents/fees or taxes that apply during closing. She does this everyday and she could have been honest with me from the beginning. I expected honest communication from a loan consultant from NASB bank and I did not receive that. I am very disappointed and dissatisfied... Read More\\r        \""
      ]
     },
     "execution_count": 14,
     "metadata": {},
     "output_type": "execute_result"
    }
   ],
   "source": [
    "data['Reviews'][504]"
   ]
  },
  {
   "cell_type": "code",
   "execution_count": 15,
   "metadata": {},
   "outputs": [
    {
     "name": "stdout",
     "output_type": "stream",
     "text": [
      "<class 'pandas.core.frame.DataFrame'>\n",
      "RangeIndex: 505 entries, 0 to 504\n",
      "Data columns (total 2 columns):\n",
      "Reviews    505 non-null object\n",
      "fileids    505 non-null object\n",
      "dtypes: object(2)\n",
      "memory usage: 8.0+ KB\n"
     ]
    }
   ],
   "source": [
    "data.info()"
   ]
  },
  {
   "cell_type": "code",
   "execution_count": 16,
   "metadata": {},
   "outputs": [
    {
     "data": {
      "text/html": [
       "<div>\n",
       "<style scoped>\n",
       "    .dataframe tbody tr th:only-of-type {\n",
       "        vertical-align: middle;\n",
       "    }\n",
       "\n",
       "    .dataframe tbody tr th {\n",
       "        vertical-align: top;\n",
       "    }\n",
       "\n",
       "    .dataframe thead th {\n",
       "        text-align: right;\n",
       "    }\n",
       "</style>\n",
       "<table border=\"1\" class=\"dataframe\">\n",
       "  <thead>\n",
       "    <tr style=\"text-align: right;\">\n",
       "      <th></th>\n",
       "      <th>Reviews</th>\n",
       "      <th>fileids</th>\n",
       "    </tr>\n",
       "  </thead>\n",
       "  <tbody>\n",
       "    <tr>\n",
       "      <th>500</th>\n",
       "      <td>\\rI never write reviews but had to this time t...</td>\n",
       "      <td>neg</td>\n",
       "    </tr>\n",
       "    <tr>\n",
       "      <th>501</th>\n",
       "      <td>\\rIt all started when Bob G ran a credit check...</td>\n",
       "      <td>neg</td>\n",
       "    </tr>\n",
       "    <tr>\n",
       "      <th>502</th>\n",
       "      <td>\\rWhat a horrible experience. We have excellen...</td>\n",
       "      <td>neg</td>\n",
       "    </tr>\n",
       "    <tr>\n",
       "      <th>503</th>\n",
       "      <td>\\rRep was extremely professional, friendly, an...</td>\n",
       "      <td>neg</td>\n",
       "    </tr>\n",
       "    <tr>\n",
       "      <th>504</th>\n",
       "      <td>\\rI was working with a loan consultant from NA...</td>\n",
       "      <td>neg</td>\n",
       "    </tr>\n",
       "  </tbody>\n",
       "</table>\n",
       "</div>"
      ],
      "text/plain": [
       "                                               Reviews fileids\n",
       "500  \\rI never write reviews but had to this time t...     neg\n",
       "501  \\rIt all started when Bob G ran a credit check...     neg\n",
       "502  \\rWhat a horrible experience. We have excellen...     neg\n",
       "503  \\rRep was extremely professional, friendly, an...     neg\n",
       "504  \\rI was working with a loan consultant from NA...     neg"
      ]
     },
     "execution_count": 16,
     "metadata": {},
     "output_type": "execute_result"
    }
   ],
   "source": [
    "data[data.fileids=='neg'].tail(5)"
   ]
  },
  {
   "cell_type": "code",
   "execution_count": 17,
   "metadata": {},
   "outputs": [
    {
     "data": {
      "text/plain": [
       "(95, 2)"
      ]
     },
     "execution_count": 17,
     "metadata": {},
     "output_type": "execute_result"
    }
   ],
   "source": [
    "data[data.fileids=='neg'].shape"
   ]
  },
  {
   "cell_type": "raw",
   "metadata": {},
   "source": [
    "neg_reviews = []\n",
    "for fileid in movie_reviews.fileids('neg'):\n",
    "    words = movie_reviews.words(fileid)\n",
    "    neg_reviews.append((create_word_features(words), \"negative\"))"
   ]
  },
  {
   "cell_type": "code",
   "execution_count": 21,
   "metadata": {},
   "outputs": [],
   "source": [
    "neg_reviews = []\n",
    "a = data[data.fileids=='neg']\n",
    "a.reset_index(drop = True, inplace = True)\n",
    "for i in range(0,len(a)):\n",
    "    #print(a.Reviews[i])\n",
    "    words = a.Reviews[i]\n",
    "    #print(\"\\n\\n\",words)\n",
    "    neg_reviews.append((create_word_features(words.split()), \"negative\"))"
   ]
  },
  {
   "cell_type": "code",
   "execution_count": 22,
   "metadata": {
    "scrolled": true
   },
   "outputs": [
    {
     "name": "stdout",
     "output_type": "stream",
     "text": [
      "({u'compoents/fees': True, u'What': True, u'545.10': True, u'give': True, u'communication': True, u'loan': True, u'me.': True, u'When': True, u'$600': True, u'know': True, u'rate': True, u'cost': True, u'conversation.': True, u'something': True, u'year': True, u'mentioned': True, u'apply': True, u'honest': True, u'total': True, u'estimate': True, u'More': True, u'different': True, u'$2300.': True, u'would': True, u'Read': True, u'come': True, u'extra': True, u'of.': True, u'$2929': True, u'send': True, u'everyday': True, u'like': True, u'state': True, u'repeatedly': True, u'expected': True, u'might': True, u\"'TOTAL'\": True, u'told': True, u'disappointed': True, u'good': True, u'later': True, u'that.': True, u'I': True, u'tax': True, u'explanation': True, u'knew': True, u'taxes': True, u'aware': True, u'dissatisfied...': True, u'estimate.': True, u'said': True, u'She': True, u'known': True, u'The': True, u'beginning': True, u'bank': True, u'4.875%': True, u'faith': True, u\"'STATE\": True, u'working': True, u'closing.': True, u'receive': True, u'consultant': True, u'could': True, u'30': True, u'beginning.': True, u\"TAX'\": True, u'called': True, u'NASB': True, u'As': True, u'supposed': True, u'time': True, u'closing': True, u'fixed': True, u'asked': True, u'came': True, u'explanation!!!!': True}, 'negative')\n",
      "95\n"
     ]
    }
   ],
   "source": [
    "print(neg_reviews[94])    \n",
    "print(len(neg_reviews))"
   ]
  },
  {
   "cell_type": "code",
   "execution_count": 23,
   "metadata": {},
   "outputs": [
    {
     "name": "stdout",
     "output_type": "stream",
     "text": [
      "410\n"
     ]
    }
   ],
   "source": [
    "pos_reviews = []\n",
    "a = data[data.fileids=='pos']\n",
    "a.reset_index(drop = True, inplace = True)\n",
    "for i in range(0,len(a)):\n",
    "    words = a.Reviews[i]\n",
    "    pos_reviews.append((create_word_features(words.split()), \"positive\"))\n",
    "\n",
    "print(len(pos_reviews))"
   ]
  },
  {
   "cell_type": "code",
   "execution_count": 24,
   "metadata": {},
   "outputs": [
    {
     "name": "stdout",
     "output_type": "stream",
     "text": [
      "(370, 135)\n"
     ]
    }
   ],
   "source": [
    "train_set = neg_reviews[:70] + pos_reviews[:300]\n",
    "test_set =  neg_reviews[70:] + pos_reviews[300:]\n",
    "print(len(train_set),  len(test_set))"
   ]
  },
  {
   "cell_type": "code",
   "execution_count": 25,
   "metadata": {},
   "outputs": [],
   "source": [
    "classifier = NaiveBayesClassifier.train(train_set)"
   ]
  },
  {
   "cell_type": "code",
   "execution_count": 26,
   "metadata": {},
   "outputs": [
    {
     "name": "stdout",
     "output_type": "stream",
     "text": [
      "73.3333333333\n"
     ]
    }
   ],
   "source": [
    "accuracy = nltk.classify.util.accuracy(classifier, test_set)\n",
    "print(accuracy * 100)"
   ]
  },
  {
   "cell_type": "code",
   "execution_count": null,
   "metadata": {},
   "outputs": [],
   "source": []
  },
  {
   "cell_type": "markdown",
   "metadata": {},
   "source": [
    "<h2> Decision Tree </h2>"
   ]
  },
  {
   "cell_type": "code",
   "execution_count": 42,
   "metadata": {},
   "outputs": [],
   "source": [
    "from nltk.classify import decisiontree"
   ]
  },
  {
   "cell_type": "code",
   "execution_count": 46,
   "metadata": {},
   "outputs": [],
   "source": [
    "classifier2 = decisiontree.DecisionTreeClassifier.train(train_set)"
   ]
  },
  {
   "cell_type": "code",
   "execution_count": 90,
   "metadata": {},
   "outputs": [
    {
     "name": "stdout",
     "output_type": "stream",
     "text": [
      "95.5555555556\n"
     ]
    }
   ],
   "source": [
    "accuracy = nltk.classify.util.accuracy(classifier2, test_set)\n",
    "print(accuracy * 100)"
   ]
  },
  {
   "cell_type": "code",
   "execution_count": null,
   "metadata": {},
   "outputs": [],
   "source": []
  },
  {
   "cell_type": "markdown",
   "metadata": {},
   "source": [
    "<h2> Test random user inputs </h2>"
   ]
  },
  {
   "cell_type": "code",
   "execution_count": 85,
   "metadata": {},
   "outputs": [
    {
     "name": "stdout",
     "output_type": "stream",
     "text": [
      "never come again\n"
     ]
    }
   ],
   "source": [
    "#review_input = str(input(\"Enter review:  \"))\n",
    "review_input = '''never come again'''\n",
    "print(review_input)"
   ]
  },
  {
   "cell_type": "code",
   "execution_count": 86,
   "metadata": {},
   "outputs": [
    {
     "name": "stdout",
     "output_type": "stream",
     "text": [
      "negative\n"
     ]
    }
   ],
   "source": [
    "words = word_tokenize(review_input)\n",
    "words = create_word_features(words)\n",
    "\n",
    "classifier.classify\n",
    "print(classifier.classify(words))"
   ]
  },
  {
   "cell_type": "code",
   "execution_count": 87,
   "metadata": {},
   "outputs": [
    {
     "name": "stdout",
     "output_type": "stream",
     "text": [
      "it was a very prompt reply\n"
     ]
    }
   ],
   "source": [
    "review_input = '''it was a very prompt reply'''\n",
    "print(review_input )"
   ]
  },
  {
   "cell_type": "code",
   "execution_count": 88,
   "metadata": {},
   "outputs": [
    {
     "name": "stdout",
     "output_type": "stream",
     "text": [
      "['it', 'was', 'a', 'very', 'prompt', 'reply']\n",
      "{'reply': True, 'prompt': True}\n"
     ]
    },
    {
     "data": {
      "text/plain": [
       "'positive'"
      ]
     },
     "execution_count": 88,
     "metadata": {},
     "output_type": "execute_result"
    }
   ],
   "source": [
    "words = word_tokenize(review_input)\n",
    "print(words)\n",
    "words = create_word_features(words)\n",
    "print(words)\n",
    "classifier.classify(words)"
   ]
  },
  {
   "cell_type": "code",
   "execution_count": null,
   "metadata": {},
   "outputs": [],
   "source": []
  },
  {
   "cell_type": "code",
   "execution_count": null,
   "metadata": {},
   "outputs": [],
   "source": []
  },
  {
   "cell_type": "code",
   "execution_count": null,
   "metadata": {},
   "outputs": [],
   "source": []
  },
  {
   "cell_type": "code",
   "execution_count": null,
   "metadata": {},
   "outputs": [],
   "source": []
  },
  {
   "cell_type": "code",
   "execution_count": null,
   "metadata": {},
   "outputs": [],
   "source": []
  },
  {
   "cell_type": "code",
   "execution_count": null,
   "metadata": {},
   "outputs": [],
   "source": []
  },
  {
   "cell_type": "code",
   "execution_count": null,
   "metadata": {},
   "outputs": [],
   "source": []
  },
  {
   "cell_type": "code",
   "execution_count": null,
   "metadata": {},
   "outputs": [],
   "source": []
  },
  {
   "cell_type": "raw",
   "metadata": {},
   "source": [
    "for fileid in movie_reviews.fileids('neg'):\n",
    "    print(fileid)\n",
    "    words = movie_reviews.words(fileid)\n",
    "    neg_reviews.append((create_word_features(words), \"negative\"))"
   ]
  },
  {
   "cell_type": "raw",
   "metadata": {},
   "source": [
    "words = movie_reviews.words(\"neg/cv011_13044.txt\")\n",
    "\n",
    "print(words)"
   ]
  },
  {
   "cell_type": "raw",
   "metadata": {},
   "source": [
    "import pandas as pd\n",
    "\n",
    "from nltk.corpus import movie_reviews as mr\n",
    "\n",
    "reviews = []\n",
    "for fileid in mr.fileids():\n",
    "    tag, filename = fileid.split('/')\n",
    "    reviews.append((filename, tag, mr.raw(fileid)))\n",
    "\n",
    "df = pd.DataFrame(reviews, columns=['filename', 'tag', 'text'])"
   ]
  },
  {
   "cell_type": "raw",
   "metadata": {},
   "source": [
    "df"
   ]
  },
  {
   "cell_type": "code",
   "execution_count": null,
   "metadata": {},
   "outputs": [],
   "source": []
  }
 ],
 "metadata": {
  "kernelspec": {
   "display_name": "Python 2",
   "language": "python",
   "name": "python2"
  },
  "language_info": {
   "codemirror_mode": {
    "name": "ipython",
    "version": 2
   },
   "file_extension": ".py",
   "mimetype": "text/x-python",
   "name": "python",
   "nbconvert_exporter": "python",
   "pygments_lexer": "ipython2",
   "version": "2.7.17"
  }
 },
 "nbformat": 4,
 "nbformat_minor": 2
}
